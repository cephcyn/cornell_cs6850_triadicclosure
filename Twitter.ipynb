{
 "cells": [
  {
   "cell_type": "code",
   "execution_count": 4,
   "id": "560ca1d9",
   "metadata": {},
   "outputs": [],
   "source": [
    "bearer_token = \"AAAAAAAAAAAAAAAAAAAAADmbVAEAAAAANsqRJcn12HBzTtlEPe4X71GZ3Ag%3DWkrItf5UluvpWpcZy3W9glitN1aNJEcKyBzKZGhAf2Af7c6FRv\""
   ]
  },
  {
   "cell_type": "code",
   "execution_count": 48,
   "id": "b0d6e9d7",
   "metadata": {},
   "outputs": [],
   "source": [
    "import requests\n",
    "import os\n",
    "import json\n",
    "\n",
    "# To set your environment variables in your terminal run the following line:\n",
    "# export 'BEARER_TOKEN'='<your_bearer_token>'\n",
    "\n",
    "\n",
    "def create_url():\n",
    "    # Replace with user ID below\n",
    "    user_id = 2244994945\n",
    "#     user_id = 2231777543\n",
    "#     return \"https://api.twitter.com/2/users/{}/following\".format(user_id)\n",
    "#     return \"https://api.twitter.com/2/users/{}/\".format(user_id)\n",
    "#     return \"https://api.twitter.com/2/users/by?usernames=katherine1ee&user.fields=created_at\"\n",
    "    return (\"https://api.twitter.com/2/tweets/98454970654916608/retweeted_by?\")\n",
    "#             \"user.fields=created_at&expansions=pinned_tweet_id&tweet.fields=created_at\")\n",
    "# https://twitter.com/vinodkpg/status/\n",
    "\n",
    "\n",
    "def get_params():\n",
    "    return {\"user.fields\": 'created_at'}\n",
    "#     return {}\n",
    "\n",
    "\n",
    "def bearer_oauth(r):\n",
    "    \"\"\"\n",
    "    Method required by bearer token authentication.\n",
    "    \"\"\"\n",
    "\n",
    "    r.headers[\"Authorization\"] = f\"Bearer {bearer_token}\"\n",
    "    r.headers[\"User-Agent\"] = \"v2FollowingLookupPython\"\n",
    "    return r\n",
    "\n",
    "\n",
    "def connect_to_endpoint(url, params):\n",
    "    response = requests.request(\"GET\", url, auth=bearer_oauth, params=params)\n",
    "#     response = requests.request(\"GET\", url=\"https://api.twitter.com/2/users/by/username/realdonaldtrump\",\n",
    "#                             auth=bearer_oauth, params=params)\n",
    "    print(response.status_code)\n",
    "    if response.status_code != 200:\n",
    "        raise Exception(\n",
    "            \"Request returned an error: {} {}\".format(\n",
    "                response.status_code, response.text\n",
    "            )\n",
    "        )\n",
    "    return response.json()"
   ]
  },
  {
   "cell_type": "code",
   "execution_count": 49,
   "id": "16c2b75c",
   "metadata": {},
   "outputs": [
    {
     "name": "stdout",
     "output_type": "stream",
     "text": [
      "200\n",
      "{\n",
      "    \"errors\": [\n",
      "        {\n",
      "            \"detail\": \"Sorry, you are not authorized to see the Tweet with id: [98454970654916608].\",\n",
      "            \"parameter\": \"id\",\n",
      "            \"resource_id\": \"98454970654916608\",\n",
      "            \"resource_type\": \"tweet\",\n",
      "            \"section\": \"data\",\n",
      "            \"title\": \"Authorization Error\",\n",
      "            \"type\": \"https://api.twitter.com/2/problems/not-authorized-for-resource\",\n",
      "            \"value\": \"98454970654916608\"\n",
      "        }\n",
      "    ]\n",
      "}\n"
     ]
    }
   ],
   "source": [
    "url = create_url()\n",
    "params = get_params()\n",
    "json_response = connect_to_endpoint(url, params)\n",
    "print(json.dumps(json_response, indent=4, sort_keys=True))\n",
    "\n"
   ]
  },
  {
   "cell_type": "code",
   "execution_count": null,
   "id": "21c31537",
   "metadata": {},
   "outputs": [],
   "source": []
  }
 ],
 "metadata": {
  "kernelspec": {
   "display_name": "Python 3",
   "language": "python",
   "name": "python3"
  },
  "language_info": {
   "codemirror_mode": {
    "name": "ipython",
    "version": 3
   },
   "file_extension": ".py",
   "mimetype": "text/x-python",
   "name": "python",
   "nbconvert_exporter": "python",
   "pygments_lexer": "ipython3",
   "version": "3.9.4"
  }
 },
 "nbformat": 4,
 "nbformat_minor": 5
}
